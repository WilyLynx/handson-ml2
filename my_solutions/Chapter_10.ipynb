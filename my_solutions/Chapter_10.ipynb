{
 "cells": [
  {
   "cell_type": "markdown",
   "metadata": {},
   "source": [
    "# Introduction to neural networks"
   ]
  },
  {
   "cell_type": "markdown",
   "metadata": {},
   "source": [
    "## Questions"
   ]
  },
  {
   "cell_type": "markdown",
   "metadata": {},
   "source": [
    "### 2\n",
    "A xor B = A ^ ~B v (~A ^ B)\n",
    "\n",
    "Rysunek w zeszycie"
   ]
  },
  {
   "cell_type": "markdown",
   "metadata": {},
   "source": [
    "### 3\n",
    "Perceptron jest zbieżny jedynie w przypadku gdy dane są liniowo separowalne."
   ]
  },
  {
   "cell_type": "markdown",
   "metadata": {},
   "source": [
    "### 4\n",
    "Użycie logistycznej funkcji aktywacji było podyktowane tym, że gradient tej funkcji jest niezerowy w całej swojej dziedzinie. Z tego powodu algorytm gradientu prostego nie zatrzymywał się."
   ]
  },
  {
   "cell_type": "markdown",
   "metadata": {},
   "source": [
    "### 5\n",
    "- RELU max(0, x)\n",
    "- Leaky RELU max(/alpha x, x), /alpha /in (0, 1)\n",
    "- sigmoid e^(-x) / (1 - e^(-x))"
   ]
  },
  {
   "cell_type": "code",
   "execution_count": 19,
   "metadata": {},
   "outputs": [
    {
     "data": {
      "image/png": "[encoded data removed]",
      "text/plain": [
       "<Figure size 432x288 with 1 Axes>"
      ]
     },
     "metadata": {
      "needs_background": "light"
     },
     "output_type": "display_data"
    }
   ],
   "source": [
    "import numpy as np\n",
    "import matplotlib.pyplot as plt\n",
    "%matplotlib inline\n",
    "\n",
    "n = 100\n",
    "zeros = np.zeros(n)\n",
    "x = np.linspace(-10, 10, n)\n",
    "\n",
    "relu  = np.maximum(zeros, x)\n",
    "plt.plot(x, relu, 'b-')\n",
    "\n",
    "alpha = 0.1\n",
    "l_relu = np.maximum(alpha*x, x)\n",
    "plt.plot(x, l_relu, 'r-')\n",
    "\n",
    "sigm = 1 / (1 + np.exp(-x))\n",
    "plt.plot(x, sigm, 'g-')\n",
    "\n",
    "\n",
    "plt.xlim((-10, 10))\n",
    "plt.ylim((-2, 2))\n",
    "plt.show()"
   ]
  },
  {
   "cell_type": "markdown",
   "metadata": {},
   "source": [
    "### 6\n",
    "Y = XW + b\n",
    "\n",
    "X.dim = (-1, 10)\n",
    "W_u.dim = (10, 50)   b_u.dim = (50)\n",
    "W_wy.dim = (50, 3)   b_wy.dim = (3)\n",
    "\n",
    "Y.dim = (-1, 3)\n",
    "\n",
    "Y = X_wy * (X * W_u + b_u) + b_wy"
   ]
  },
  {
   "cell_type": "markdown",
   "metadata": {},
   "source": [
    "### 7\n",
    "ham / spam - jeden neuron, aktywacja sigmoid(logistyczna), wartość neuronu określa prawdopodobieństwo należenia próbki do spamu\n",
    "\n",
    "MNIST - dziesięć neuronów, aktywacja softmax\n",
    "\n",
    "Housing - jeden neuron, aktywacja brak / liniowa"
   ]
  },
  {
   "cell_type": "markdown",
   "metadata": {},
   "source": [
    "### 8\n",
    "Propagacja wsteczna - algorytm poprawiania wag sieci neuronowej wykorzystujący odwrotne różnioczkowanie automatyczne\n",
    "\n",
    "Odwrotne różniczkowanie automatyczne - algorytm automatycznie obliczający gradienty w sieci neuronowej"
   ]
  },
  {
   "cell_type": "markdown",
   "metadata": {},
   "source": [
    "### 9\n",
    "- liczba warstw\n",
    "- liczba neuronów w warstwie\n",
    "- występowanie biasu\n",
    "- funkcja aktywacji\n",
    "- współczynnik uczenia\n",
    "- liczba próbek w batchu\n",
    "\n",
    "W przypadku przetrenowania należy spróbować zmniejszyć liczbę neuronów w warstwach lub liczbę warstw."
   ]
  },
  {
   "cell_type": "markdown",
   "metadata": {},
   "source": [
    "### 10\n",
    "MNIST "
   ]
  },
  {
   "cell_type": "code",
   "execution_count": 37,
   "metadata": {},
   "outputs": [],
   "source": [
    "import os\n",
    "import numpy as np\n",
    "\n",
    "import tensorflow as tf\n",
    "from tensorflow.keras.datasets import mnist\n",
    "from tensorflow.keras.layers import Dense, Flatten\n",
    "from tensorflow.keras.models import Sequential\n",
    "from tensorflow.keras.losses import *\n",
    "from tensorflow.keras.optimizers import *\n",
    "from tensorflow.keras.activations import *\n",
    "\n",
    "from matplotlib import pyplot as plt\n",
    "%matplotlib inline"
   ]
  },
  {
   "cell_type": "code",
   "execution_count": 20,
   "metadata": {
    "scrolled": false
   },
   "outputs": [
    {
     "data": {
      "text/plain": [
       "(60000,)"
      ]
     },
     "execution_count": 20,
     "metadata": {},
     "output_type": "execute_result"
    },
    {
     "data": {
      "image/png": "[encoded data removed]",
      "text/plain": [
       "<Figure size 432x288 with 1 Axes>"
      ]
     },
     "metadata": {
      "needs_background": "light"
     },
     "output_type": "display_data"
    }
   ],
   "source": [
    "(X_train_full, y_train_full), (X_test, y_test) = mnist.load_data()\n",
    "plt.imshow(X_train_full[0], cmap='binary')\n",
    "y_train_full.shape"
   ]
  },
  {
   "cell_type": "code",
   "execution_count": 46,
   "metadata": {},
   "outputs": [],
   "source": [
    "X_train, y_train = X_train_full[:50_000] / 255., y_train_full[:50_000]\n",
    "X_valid, y_valid = X_train_full[50_000:] / 255., y_train_full[50_000:]"
   ]
  },
  {
   "cell_type": "code",
   "execution_count": 16,
   "metadata": {},
   "outputs": [],
   "source": [
    "tensorboard_path = os.path.join(os.curdir, 'my_logs')\n",
    "def get_run_logdir():\n",
    "    import time\n",
    "    run_id = time.strftime('run_%Y_%m_%d-%H_%M_%S')\n",
    "    return os.path.join(tensorboard_path, run_id)"
   ]
  },
  {
   "cell_type": "code",
   "execution_count": 108,
   "metadata": {},
   "outputs": [],
   "source": [
    "def build_model(hidden_layer_size):\n",
    "    model = Sequential()\n",
    "    model.add(Flatten(input_shape=(28,28)))\n",
    "    model.add(Dense(hidden_layer_size, activation='relu'))\n",
    "    model.add(Dense(hidden_layer_size, activation='relu'))\n",
    "    model.add(Dense(10, activation='softmax'))\n",
    "    return model"
   ]
  },
  {
   "cell_type": "markdown",
   "metadata": {},
   "source": [
    "#### Finding best learingn rate"
   ]
  },
  {
   "cell_type": "code",
   "execution_count": 101,
   "metadata": {},
   "outputs": [],
   "source": [
    "K = tf.keras.backend\n",
    "\n",
    "class ExponensionalLR(tf.keras.callbacks.Callback):\n",
    "    def __init__(self, factor):\n",
    "        self.factor = factor\n",
    "        self.lr = []\n",
    "        self.loss = []\n",
    "    def on_batch_end(self, batch, logs):\n",
    "        self.lr.append(K.get_value(self.model.optimizer.lr))\n",
    "        self.loss.append(logs['loss'])\n",
    "        K.set_value(self.model.optimizer.lr, self.factor * self.model.optimizer.lr )"
   ]
  },
  {
   "cell_type": "code",
   "execution_count": 109,
   "metadata": {},
   "outputs": [
    {
     "name": "stdout",
     "output_type": "stream",
     "text": [
      "Model: \"sequential_1\"\n",
      "_________________________________________________________________\n",
      "Layer (type)                 Output Shape              Param #   \n",
      "=================================================================\n",
      "flatten_1 (Flatten)          (None, 784)               0         \n",
      "_________________________________________________________________\n",
      "dense_3 (Dense)              (None, 256)               200960    \n",
      "_________________________________________________________________\n",
      "dense_4 (Dense)              (None, 256)               65792     \n",
      "_________________________________________________________________\n",
      "dense_5 (Dense)              (None, 10)                2570      \n",
      "=================================================================\n",
      "Total params: 269,322\n",
      "Trainable params: 269,322\n",
      "Non-trainable params: 0\n",
      "_________________________________________________________________\n"
     ]
    }
   ],
   "source": [
    "model = build_model(256)\n",
    "model.compile(loss='sparse_categorical_crossentropy',\n",
    "             optimizer=SGD(lr=1e-3),\n",
    "             metrics=['accuracy'])\n",
    "model.summary()\n",
    "lr_clb = ExponensionalDecayLR(1.005)"
   ]
  },
  {
   "cell_type": "code",
   "execution_count": 110,
   "metadata": {
    "scrolled": false
   },
   "outputs": [
    {
     "name": "stdout",
     "output_type": "stream",
     "text": [
      "Train on 50000 samples, validate on 10000 samples\n",
      "50000/50000 [==============================] - 5s 91us/sample - loss: 2027108959410483737133056.0000 - accuracy: 0.6447 - val_loss: 2.3269 - val_accuracy: 0.0991\n"
     ]
    }
   ],
   "source": [
    "history = model.fit(X_train, y_train, \n",
    "                    validation_data=(X_valid, y_valid), \n",
    "                    callbacks=[lr_clb], epochs=1)"
   ]
  },
  {
   "cell_type": "code",
   "execution_count": 111,
   "metadata": {},
   "outputs": [
    {
     "data": {
      "text/plain": [
       "(0.0, 2.0)"
      ]
     },
     "execution_count": 111,
     "metadata": {},
     "output_type": "execute_result"
    },
    {
     "data": {
      "image/png": "[encoded data removed]",
      "text/plain": [
       "<Figure size 432x288 with 1 Axes>"
      ]
     },
     "metadata": {
      "needs_background": "light"
     },
     "output_type": "display_data"
    }
   ],
   "source": [
    "import numpy\n",
    "def smooth(x,window_len=11,window='hanning'):\n",
    "        if x.ndim != 1:\n",
    "                raise ValueError(\"smooth only accepts 1 dimension arrays.\")\n",
    "        if x.size < window_len:\n",
    "                raise ValueError(\"Input vector needs to be bigger than window size.\")\n",
    "        if window_len<3:\n",
    "                return x\n",
    "        if not window in ['flat', 'hanning', 'hamming', 'bartlett', 'blackman']:\n",
    "                raise ValueError(\"Window is on of 'flat', 'hanning', 'hamming', 'bartlett', 'blackman'\")\n",
    "        s=numpy.r_[2*x[0]-x[window_len-1::-1],x,2*x[-1]-x[-1:-window_len:-1]]\n",
    "        if window == 'flat': #moving average\n",
    "                w=numpy.ones(window_len,'d')\n",
    "        else:  \n",
    "                w=eval('numpy.'+window+'(window_len)')\n",
    "        y=numpy.convolve(w/w.sum(),s,mode='same')\n",
    "        return y[window_len:-window_len+1]\n",
    "\n",
    "plt.plot(lr_clb.lr, smooth(np.array(lr_clb.loss), window_len=30))\n",
    "plt.gca().set_xscale('log')\n",
    "plt.ylim((0, 2.))"
   ]
  },
  {
   "cell_type": "code",
   "execution_count": 112,
   "metadata": {},
   "outputs": [
    {
     "name": "stdout",
     "output_type": "stream",
     "text": [
      "Model: \"sequential\"\n",
      "_________________________________________________________________\n",
      "Layer (type)                 Output Shape              Param #   \n",
      "=================================================================\n",
      "flatten (Flatten)            (None, 784)               0         \n",
      "_________________________________________________________________\n",
      "dense (Dense)                (None, 256)               200960    \n",
      "_________________________________________________________________\n",
      "dense_1 (Dense)              (None, 256)               65792     \n",
      "_________________________________________________________________\n",
      "dense_2 (Dense)              (None, 10)                2570      \n",
      "=================================================================\n",
      "Total params: 269,322\n",
      "Trainable params: 269,322\n",
      "Non-trainable params: 0\n",
      "_________________________________________________________________\n"
     ]
    }
   ],
   "source": [
    "tf.keras.backend.clear_session()\n",
    "\n",
    "\n",
    "model = build_model(256)\n",
    "\n",
    "model.compile(loss='sparse_categorical_crossentropy',\n",
    "             optimizer=SGD(lr=2e-1),\n",
    "             metrics=['accuracy'])\n",
    "model.summary()"
   ]
  },
  {
   "cell_type": "code",
   "execution_count": 113,
   "metadata": {},
   "outputs": [
    {
     "name": "stdout",
     "output_type": "stream",
     "text": [
      "Train on 50000 samples, validate on 10000 samples\n",
      "Epoch 1/50\n",
      "50000/50000 [==============================] - 5s 95us/sample - loss: 0.2478 - accuracy: 0.9243 - val_loss: 0.1393 - val_accuracy: 0.9577\n",
      "Epoch 2/50\n",
      "50000/50000 [==============================] - 4s 89us/sample - loss: 0.0973 - accuracy: 0.9696 - val_loss: 0.1031 - val_accuracy: 0.9695\n",
      "Epoch 3/50\n",
      "50000/50000 [==============================] - 4s 89us/sample - loss: 0.0647 - accuracy: 0.9798 - val_loss: 0.1153 - val_accuracy: 0.9652\n",
      "Epoch 4/50\n",
      "50000/50000 [==============================] - 4s 86us/sample - loss: 0.0465 - accuracy: 0.9855 - val_loss: 0.2374 - val_accuracy: 0.9392\n",
      "Epoch 5/50\n",
      "50000/50000 [==============================] - 4s 85us/sample - loss: 0.0334 - accuracy: 0.9893 - val_loss: 0.0820 - val_accuracy: 0.9764\n",
      "Epoch 6/50\n",
      "50000/50000 [==============================] - 4s 82us/sample - loss: 0.0258 - accuracy: 0.9918 - val_loss: 0.0778 - val_accuracy: 0.9799\n",
      "Epoch 7/50\n",
      "50000/50000 [==============================] - 4s 79us/sample - loss: 0.0156 - accuracy: 0.9951 - val_loss: 0.0826 - val_accuracy: 0.9795\n",
      "Epoch 8/50\n",
      "50000/50000 [==============================] - 4s 80us/sample - loss: 0.0124 - accuracy: 0.9961 - val_loss: 0.0810 - val_accuracy: 0.9812\n",
      "Epoch 9/50\n",
      "50000/50000 [==============================] - 4s 80us/sample - loss: 0.0071 - accuracy: 0.9981 - val_loss: 0.0830 - val_accuracy: 0.9811\n",
      "Epoch 10/50\n",
      "50000/50000 [==============================] - 4s 79us/sample - loss: 0.0046 - accuracy: 0.9989 - val_loss: 0.0857 - val_accuracy: 0.9799\n",
      "Epoch 11/50\n",
      "50000/50000 [==============================] - 4s 80us/sample - loss: 0.0027 - accuracy: 0.9994 - val_loss: 0.0829 - val_accuracy: 0.9810\n",
      "Epoch 12/50\n",
      "50000/50000 [==============================] - 4s 82us/sample - loss: 0.0020 - accuracy: 0.9995 - val_loss: 0.0861 - val_accuracy: 0.9823\n",
      "Epoch 13/50\n",
      "50000/50000 [==============================] - 4s 80us/sample - loss: 0.0012 - accuracy: 0.9999 - val_loss: 0.0955 - val_accuracy: 0.9809\n",
      "Epoch 14/50\n",
      "50000/50000 [==============================] - 4s 81us/sample - loss: 0.0034 - accuracy: 0.9992 - val_loss: 0.0864 - val_accuracy: 0.9819\n",
      "Epoch 15/50\n",
      "50000/50000 [==============================] - 4s 80us/sample - loss: 0.0011 - accuracy: 0.9999 - val_loss: 0.0843 - val_accuracy: 0.9833\n",
      "Epoch 16/50\n",
      "50000/50000 [==============================] - 4s 80us/sample - loss: 3.6080e-04 - accuracy: 1.0000 - val_loss: 0.0830 - val_accuracy: 0.9840\n"
     ]
    },
    {
     "data": {
      "text/plain": [
       "<tensorflow.python.keras.callbacks.History at 0x7fef29733690>"
      ]
     },
     "execution_count": 113,
     "metadata": {},
     "output_type": "execute_result"
    }
   ],
   "source": [
    "tensorboard_cb = tf.keras.callbacks.TensorBoard(get_run_logdir())\n",
    "earlystop_cb = tf.keras.callbacks.EarlyStopping(patience=10, restore_best_weights=True)\n",
    "model.fit(X_train, y_train, validation_data=(X_valid, y_valid), epochs=50, \n",
    "          callbacks=[tensorboard_cb, earlystop_cb])"
   ]
  },
  {
   "cell_type": "code",
   "execution_count": 107,
   "metadata": {
    "scrolled": false
   },
   "outputs": [
    {
     "name": "stdout",
     "output_type": "stream",
     "text": [
      "The tensorboard extension is already loaded. To reload it, use:\n",
      "  %reload_ext tensorboard\n"
     ]
    },
    {
     "data": {
      "text/html": [
       "\n",
       "      <iframe id=\"tensorboard-frame-8ce468c6bfdb3643\" width=\"100%\" height=\"800\" frameborder=\"0\">\n",
       "      </iframe>\n",
       "      <script>\n",
       "        (function() {\n",
       "          const frame = document.getElementById(\"tensorboard-frame-8ce468c6bfdb3643\");\n",
       "          const url = new URL(\"/\", window.location);\n",
       "          url.port = 6006;\n",
       "          frame.src = url;\n",
       "        })();\n",
       "      </script>\n",
       "  "
      ],
      "text/plain": [
       "<IPython.core.display.HTML object>"
      ]
     },
     "metadata": {},
     "output_type": "display_data"
    }
   ],
   "source": [
    "%load_ext tensorboard\n",
    "%tensorboard --logdir=./my_logs --port=6006"
   ]
  }
 ],
 "metadata": {
  "kernelspec": {
   "display_name": "tf_gpu",
   "language": "python",
   "name": "tf_gpu"
  },
  "language_info": {
   "codemirror_mode": {
    "name": "ipython",
    "version": 3
   },
   "file_extension": ".py",
   "mimetype": "text/x-python",
   "name": "python",
   "nbconvert_exporter": "python",
   "pygments_lexer": "ipython3",
   "version": "3.7.7"
  }
 },
 "nbformat": 4,
 "nbformat_minor": 4
}
