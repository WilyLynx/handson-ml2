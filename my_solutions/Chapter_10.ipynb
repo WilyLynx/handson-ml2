{
 "cells": [
  {
   "cell_type": "markdown",
   "metadata": {},
   "source": [
    "# Introduction to neural networks"
   ]
  },
  {
   "cell_type": "markdown",
   "metadata": {},
   "source": [
    "## Questions"
   ]
  },
  {
   "cell_type": "markdown",
   "metadata": {},
   "source": [
    "### 2\n",
    "A xor B = A ^ ~B v (~A ^ B)\n",
    "\n",
    "Rysunek w zeszycie"
   ]
  },
  {
   "cell_type": "markdown",
   "metadata": {},
   "source": [
    "### 3\n",
    "Perceptron jest zbieżny jedynie w przypadku gdy dane są liniowo separowalne."
   ]
  },
  {
   "cell_type": "markdown",
   "metadata": {},
   "source": [
    "### 4\n",
    "Użycie logistycznej funkcji aktywacji było podyktowane tym, że gradient tej funkcji jest niezerowy w całej swojej dziedzinie. Z tego powodu algorytm gradientu prostego nie zatrzymywał się."
   ]
  },
  {
   "cell_type": "markdown",
   "metadata": {},
   "source": [
    "### 5\n",
    "- RELU max(0, x)\n",
    "- Leaky RELU max(/alpha x, x), /alpha /in (0, 1)\n",
    "- sigmoid e^(-x) / (1 - e^(-x))"
   ]
  },
  {
   "cell_type": "code",
   "execution_count": 19,
   "metadata": {},
   "outputs": [
    {
     "data": {
      "image/png": "[encoded data removed]",
      "text/plain": [
       "<Figure size 432x288 with 1 Axes>"
      ]
     },
     "metadata": {
      "needs_background": "light"
     },
     "output_type": "display_data"
    }
   ],
   "source": [
    "import numpy as np\n",
    "import matplotlib.pyplot as plt\n",
    "%matplotlib inline\n",
    "\n",
    "n = 100\n",
    "zeros = np.zeros(n)\n",
    "x = np.linspace(-10, 10, n)\n",
    "\n",
    "relu  = np.maximum(zeros, x)\n",
    "plt.plot(x, relu, 'b-')\n",
    "\n",
    "alpha = 0.1\n",
    "l_relu = np.maximum(alpha*x, x)\n",
    "plt.plot(x, l_relu, 'r-')\n",
    "\n",
    "sigm = 1 / (1 + np.exp(-x))\n",
    "plt.plot(x, sigm, 'g-')\n",
    "\n",
    "\n",
    "plt.xlim((-10, 10))\n",
    "plt.ylim((-2, 2))\n",
    "plt.show()"
   ]
  },
  {
   "cell_type": "markdown",
   "metadata": {},
   "source": [
    "### 6\n",
    "Y = XW + b\n",
    "\n",
    "X.dim = (-1, 10)\n",
    "W_u.dim = (10, 50)   b_u.dim = (50)\n",
    "W_wy.dim = (50, 3)   b_wy.dim = (3)\n",
    "\n",
    "Y.dim = (-1, 3)\n",
    "\n",
    "Y = X_wy * (X * W_u + b_u) + b_wy"
   ]
  },
  {
   "cell_type": "markdown",
   "metadata": {},
   "source": [
    "### 7\n",
    "ham / spam - jeden neuron, aktywacja sigmoid(logistyczna), wartość neuronu określa prawdopodobieństwo należenia próbki do spamu\n",
    "\n",
    "MNIST - dziesięć neuronów, aktywacja softmax\n",
    "\n",
    "Housing - jeden neuron, aktywacja brak / liniowa"
   ]
  },
  {
   "cell_type": "markdown",
   "metadata": {},
   "source": [
    "### 8\n",
    "Propagacja wsteczna - algorytm poprawiania wag sieci neuronowej wykorzystujący odwrotne różnioczkowanie automatyczne\n",
    "\n",
    "Odwrotne różniczkowanie automatyczne - algorytm automatycznie obliczający gradienty w sieci neuronowej"
   ]
  },
  {
   "cell_type": "markdown",
   "metadata": {},
   "source": [
    "### 9\n",
    "- liczba warstw\n",
    "- liczba neuronów w warstwie\n",
    "- występowanie biasu\n",
    "- funkcja aktywacji\n",
    "- współczynnik uczenia\n",
    "- liczba próbek w batchu\n",
    "\n",
    "W przypadku przetrenowania należy spróbować zmniejszyć liczbę neuronów w warstwach lub liczbę warstw."
   ]
  }
 ],
 "metadata": {
  "kernelspec": {
   "display_name": "Python 3",
   "language": "python",
   "name": "python3"
  },
  "language_info": {
   "codemirror_mode": {
    "name": "ipython",
    "version": 3
   },
   "file_extension": ".py",
   "mimetype": "text/x-python",
   "name": "python",
   "nbconvert_exporter": "python",
   "pygments_lexer": "ipython3",
   "version": "3.7.7"
  }
 },
 "nbformat": 4,
 "nbformat_minor": 4
}
