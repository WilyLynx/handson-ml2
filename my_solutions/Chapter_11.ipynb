{
 "cells": [
  {
   "cell_type": "markdown",
   "metadata": {},
   "source": [
    "# Deep neural networks"
   ]
  },
  {
   "cell_type": "markdown",
   "metadata": {},
   "source": [
    "## Questions"
   ]
  },
  {
   "cell_type": "markdown",
   "metadata": {},
   "source": [
    "### 1\n",
    "Inicjalizacja wszystkich wag tą samą wartością to słaby pomysł, ponieważ wszystkie wagi będą miały ten sam wpływ na dane wejściowe. Z tego powodu algorytm gradientu prostego będzie modyfikował wszystkie wagi w ten sam sposób."
   ]
  },
  {
   "cell_type": "markdown",
   "metadata": {},
   "source": [
    "### 2\n",
    "Bias może być inicjalizowany wartością 0. Jest to de facto założenie wyśrodowania danych wejściowych."
   ]
  },
  {
   "cell_type": "markdown",
   "metadata": {},
   "source": [
    "### 3\n",
    "Zalety SELU:\n",
    "- samonormalizacja\n",
    "- niezerowy gradient dla x < 0\n",
    "- różniczkowalność w każdym punkcie"
   ]
  },
  {
   "cell_type": "markdown",
   "metadata": {},
   "source": [
    "### 4\n",
    "- SELU - budujemy sieć samonormalizującą\n",
    "- Leaky ReLU - liczy się szybkość obliczeń\n",
    "- ReLu - jeszcze szybciej niż Leaky ReLU, ale sprawdza się gorzej\n",
    "- tanh - jezeli chcemy aby dane wyjsciowe zawieraly sie w przedziale [-1, 1]\n",
    "- logistyczna - podobnie jak tanh, ale przedzial [0, 1], częściej stosowana w warstwie wyjściowej dla klasyfikacji binarnej\n",
    "- softmax - na warstwie wyjściowej w przypadku klasyfikacji gdzie mamy więcej niż dwie klasy"
   ]
  },
  {
   "cell_type": "markdown",
   "metadata": {},
   "source": [
    "### 5\n",
    "Jeżeli moment jest duży. Model może ciągle się rozpędzać w przestrzeni wag, co spowoduje rozbieżność algorytmu"
   ]
  },
  {
   "cell_type": "markdown",
   "metadata": {},
   "source": [
    "### 6\n",
    "Sposoby uzyskania modelu rzadkiego:\n",
    "1. Zastosowanie normalizacji l1\n",
    "2. Usuwanie połączeń o wadze poniżej założonego progu\n",
    "3. "
   ]
  },
  {
   "cell_type": "markdown",
   "metadata": {},
   "source": [
    "### 7\n",
    "Dropout spowalnia proces uczenia. Model potrzebuje więcej epok na dostosowanie się do danych, ale w zamian uzyskujemy mniejszy błąd wariancji. \n",
    "\n",
    "Warstwy dropout wymagają przeskalowania danych przechodzących przez warstwę przez (1-p), gdzie p to prawdopodobieństwo wyłączenia węzła. W trakcie obliczania predykcji wszystkie węzły w sieci są aktywne.\n",
    "\n",
    "W przypadku porzucania MonteCarlo zmiana występuje w przypadku obliczania predykcji. Obliczenie predykcji powtarzamy kilkukrotnie z aktywnymi warstwami Dropout. W rezultacie możemy ocenić wartość oczekiwaną predykcji oraz odchylenie standardowe."
   ]
  },
  {
   "cell_type": "code",
   "execution_count": 1,
   "metadata": {},
   "outputs": [],
   "source": [
    "import numpy as np\n",
    "import tensorflow as tf\n",
    "from tensorflow.keras.layers import *\n",
    "from tensorflow.keras.activations import relu, selu, elu\n",
    "from tensorflow.keras.losses import *\n",
    "from tensorflow.keras.metrics import *\n",
    "from tensorflow.keras.datasets import cifar10\n",
    "from tensorflow.keras import Model\n",
    "from tensorflow.keras.callbacks import EarlyStopping, TensorBoard\n",
    "from tensorflow.keras.optimizers import SGD, Nadam\n",
    "\n",
    "from sklearn.model_selection import train_test_split\n",
    "\n",
    "import matplotlib.pyplot as plt\n",
    "%matplotlib inline"
   ]
  },
  {
   "cell_type": "code",
   "execution_count": 2,
   "metadata": {
    "scrolled": true
   },
   "outputs": [
    {
     "data": {
      "text/plain": [
       "<matplotlib.image.AxesImage at 0x7f16405f1650>"
      ]
     },
     "execution_count": 2,
     "metadata": {},
     "output_type": "execute_result"
    },
    {
     "data": {
      "image/png": "[encoded data removed]",
      "text/plain": [
       "<Figure size 432x288 with 1 Axes>"
      ]
     },
     "metadata": {
      "needs_background": "light"
     },
     "output_type": "display_data"
    }
   ],
   "source": [
    "(X_train, y_train), (X_test, y_test) = cifar10.load_data()\n",
    "plt.imshow(X_train[0], cmap='binary')"
   ]
  },
  {
   "cell_type": "code",
   "execution_count": 3,
   "metadata": {},
   "outputs": [
    {
     "name": "stdout",
     "output_type": "stream",
     "text": [
      "(45000, 32, 32, 3)\n",
      "(45000, 1)\n",
      "(5000, 32, 32, 3)\n",
      "(5000, 1)\n",
      "(10000, 32, 32, 3)\n",
      "(10000, 1)\n"
     ]
    }
   ],
   "source": [
    "X_train, X_val, y_train, y_val = train_test_split(X_train, y_train, test_size=5_000)\n",
    "for s in [X_train, y_train, X_val, y_val, X_test, y_test]:\n",
    "    print(s.shape)"
   ]
  },
  {
   "cell_type": "code",
   "execution_count": 4,
   "metadata": {},
   "outputs": [],
   "source": [
    "K = tf.keras.backend\n",
    "\n",
    "class ExponensionalLR(tf.keras.callbacks.Callback):\n",
    "    def __init__(self, factor):\n",
    "        self.factor = factor\n",
    "        self.lr = []\n",
    "        self.loss = []\n",
    "    def on_batch_end(self, batch, logs):\n",
    "        self.lr.append(K.get_value(self.model.optimizer.lr))\n",
    "        self.loss.append(logs['loss'])\n",
    "        K.set_value(self.model.optimizer.lr, self.factor * self.model.optimizer.lr )"
   ]
  },
  {
   "cell_type": "markdown",
   "metadata": {},
   "source": [
    "#### MODEL 1 - DeepDense"
   ]
  },
  {
   "cell_type": "code",
   "execution_count": 38,
   "metadata": {},
   "outputs": [],
   "source": [
    "from functools import partial\n",
    "\n",
    "DenseEluHe = partial(tf.keras.layers.Dense,\n",
    "                 activation='elu',\n",
    "                 kernel_initializer='he_normal')\n",
    "\n",
    "\n",
    "def get_deep_dense():\n",
    "    input_ = Input(shape=(32, 32, 3), name='input')\n",
    "    x = Flatten()(input_)\n",
    "    for _ in range(20):\n",
    "        x = DenseEluHe(100)(x)\n",
    "\n",
    "    output_ = Dense(10, activation='softmax', kernel_initializer='he_normal')(x)\n",
    "\n",
    "    return Model(inputs=[input_], outputs=[output_], name='DeepDense')"
   ]
  },
  {
   "cell_type": "code",
   "execution_count": 43,
   "metadata": {},
   "outputs": [],
   "source": [
    "class LearningRateFinder:\n",
    "    def __init__(self, lr_start, lr_factor, optimizer):\n",
    "        self.start = lr_start\n",
    "        self.factor = lr_factor\n",
    "        self.optimizer = optimizer\n",
    "        \n",
    "    def test_exp_lr_against_loss(self, model):\n",
    "        lr_clb = ExponensionalLR(1.005)\n",
    "        model.compile(\n",
    "            optimizer=self.optimizer(self.start),\n",
    "            loss='sparse_categorical_crossentropy',\n",
    "            metrics=['accuracy']\n",
    "        )\n",
    "        history = model.fit(X_train, y_train, \n",
    "                    validation_data=(X_val, y_val), \n",
    "                    callbacks=[lr_clb], verbose=0,\n",
    "                    epochs=1)\n",
    "        plt.plot(lr_clb.lr, lr_clb.loss)\n",
    "        plt.gca().set_xscale('log')\n",
    "        plt.ylim((1, 10.))"
   ]
  },
  {
   "cell_type": "code",
   "execution_count": 44,
   "metadata": {},
   "outputs": [
    {
     "data": {
      "image/png": "[encoded data removed]",
      "text/plain": [
       "<Figure size 432x288 with 1 Axes>"
      ]
     },
     "metadata": {
      "needs_background": "light"
     },
     "output_type": "display_data"
    }
   ],
   "source": [
    "model = get_deep_dense()\n",
    "lrf = LearningRateFinder(1e-5, 1.005, Nadam)\n",
    "lrf.test_exp_lr_against_loss(model)"
   ]
  },
  {
   "cell_type": "code",
   "execution_count": null,
   "metadata": {},
   "outputs": [],
   "source": [
    "model = get_deep_dense()\n",
    "\n",
    "model.compile(\n",
    "    optimizer=Nadam(lr=1e-3),\n",
    "    loss='sparse_categorical_crossentropy',\n",
    "    metrics=['accuracy']\n",
    ")"
   ]
  },
  {
   "cell_type": "code",
   "execution_count": 35,
   "metadata": {},
   "outputs": [],
   "source": [
    "import os\n",
    "tensorboard_path = os.path.join(os.curdir, 'my_logs/c11')\n",
    "def get_run_logdir():\n",
    "    import time\n",
    "    run_id = time.strftime('run_%Y_%m_%d-%H_%M_%S')\n",
    "    return os.path.join(tensorboard_path, run_id)"
   ]
  },
  {
   "cell_type": "code",
   "execution_count": 36,
   "metadata": {
    "collapsed": true
   },
   "outputs": [
    {
     "name": "stdout",
     "output_type": "stream",
     "text": [
      "Train on 45000 samples, validate on 5000 samples\n",
      "Epoch 1/50\n",
      "45000/45000 [==============================] - 12s 257us/sample - loss: 4.3920 - accuracy: 0.2216 - val_loss: 2.4280 - val_accuracy: 0.2236\n",
      "Epoch 2/50\n",
      "45000/45000 [==============================] - 10s 214us/sample - loss: 1.9250 - accuracy: 0.2897 - val_loss: 1.9941 - val_accuracy: 0.2650\n",
      "Epoch 3/50\n",
      "45000/45000 [==============================] - 13s 295us/sample - loss: 1.8742 - accuracy: 0.3115 - val_loss: 1.9096 - val_accuracy: 0.3132\n",
      "Epoch 4/50\n",
      "45000/45000 [==============================] - 14s 314us/sample - loss: 1.8467 - accuracy: 0.3229 - val_loss: 2.0592 - val_accuracy: 0.2776\n",
      "Epoch 5/50\n",
      "45000/45000 [==============================] - 14s 311us/sample - loss: 1.8205 - accuracy: 0.3369 - val_loss: 1.9073 - val_accuracy: 0.3296\n",
      "Epoch 6/50\n",
      "45000/45000 [==============================] - 13s 299us/sample - loss: 1.7957 - accuracy: 0.3443 - val_loss: 1.9665 - val_accuracy: 0.3094\n",
      "Epoch 7/50\n",
      "45000/45000 [==============================] - 12s 278us/sample - loss: 1.7703 - accuracy: 0.3565 - val_loss: 1.8975 - val_accuracy: 0.3314\n",
      "Epoch 8/50\n",
      "45000/45000 [==============================] - 12s 269us/sample - loss: 1.7436 - accuracy: 0.3709 - val_loss: 1.9327 - val_accuracy: 0.2974\n",
      "Epoch 9/50\n",
      "45000/45000 [==============================] - 11s 253us/sample - loss: 1.7214 - accuracy: 0.3789 - val_loss: 1.7747 - val_accuracy: 0.3612\n",
      "Epoch 10/50\n",
      "45000/45000 [==============================] - 11s 252us/sample - loss: 1.7028 - accuracy: 0.3839 - val_loss: 1.7663 - val_accuracy: 0.3732\n",
      "Epoch 11/50\n",
      "45000/45000 [==============================] - 11s 235us/sample - loss: 1.6736 - accuracy: 0.3993 - val_loss: 1.7563 - val_accuracy: 0.3836\n",
      "Epoch 12/50\n",
      "45000/45000 [==============================] - 12s 258us/sample - loss: 2.9575 - accuracy: 0.2479 - val_loss: 1.9116 - val_accuracy: 0.2778\n",
      "Epoch 13/50\n",
      "45000/45000 [==============================] - 11s 246us/sample - loss: 1.8432 - accuracy: 0.3086 - val_loss: 1.8589 - val_accuracy: 0.3134\n",
      "Epoch 14/50\n",
      "45000/45000 [==============================] - 10s 225us/sample - loss: 1.8508 - accuracy: 0.3211 - val_loss: 1.8648 - val_accuracy: 0.3204\n",
      "Epoch 15/50\n",
      "45000/45000 [==============================] - 10s 232us/sample - loss: 1.8097 - accuracy: 0.3375 - val_loss: 1.8967 - val_accuracy: 0.3126\n",
      "Epoch 16/50\n",
      "45000/45000 [==============================] - 10s 230us/sample - loss: 1.7788 - accuracy: 0.3510 - val_loss: 1.8059 - val_accuracy: 0.3498\n",
      "Epoch 17/50\n",
      "45000/45000 [==============================] - 10s 225us/sample - loss: 1.7450 - accuracy: 0.3646 - val_loss: 1.7268 - val_accuracy: 0.3806\n",
      "Epoch 18/50\n",
      "45000/45000 [==============================] - 11s 237us/sample - loss: 1.7458 - accuracy: 0.3642 - val_loss: 1.8151 - val_accuracy: 0.3358\n",
      "Epoch 19/50\n",
      "45000/45000 [==============================] - 10s 233us/sample - loss: 1.7122 - accuracy: 0.3725 - val_loss: 1.7940 - val_accuracy: 0.3384\n",
      "Epoch 20/50\n",
      "45000/45000 [==============================] - 11s 233us/sample - loss: 1.6946 - accuracy: 0.3822 - val_loss: 1.7121 - val_accuracy: 0.3902\n",
      "Epoch 21/50\n",
      "45000/45000 [==============================] - 11s 249us/sample - loss: 1.6844 - accuracy: 0.3882 - val_loss: 1.7414 - val_accuracy: 0.3756\n",
      "Epoch 22/50\n",
      "45000/45000 [==============================] - 11s 245us/sample - loss: 1.6747 - accuracy: 0.3933 - val_loss: 1.7232 - val_accuracy: 0.3864\n",
      "Epoch 23/50\n",
      "45000/45000 [==============================] - 11s 246us/sample - loss: 1.6650 - accuracy: 0.3990 - val_loss: 1.7476 - val_accuracy: 0.3730\n",
      "Epoch 24/50\n",
      "45000/45000 [==============================] - 11s 243us/sample - loss: 1.6523 - accuracy: 0.4025 - val_loss: 1.6881 - val_accuracy: 0.3894\n",
      "Epoch 25/50\n",
      "45000/45000 [==============================] - 11s 242us/sample - loss: 1.9157 - accuracy: 0.2984 - val_loss: 1.8623 - val_accuracy: 0.3044\n",
      "Epoch 26/50\n",
      "45000/45000 [==============================] - 11s 241us/sample - loss: 1.8005 - accuracy: 0.3352 - val_loss: 1.8372 - val_accuracy: 0.3324\n",
      "Epoch 27/50\n",
      "45000/45000 [==============================] - 10s 228us/sample - loss: 1.7559 - accuracy: 0.3543 - val_loss: 1.7766 - val_accuracy: 0.3476\n",
      "Epoch 28/50\n",
      "45000/45000 [==============================] - 11s 235us/sample - loss: 1.7225 - accuracy: 0.3691 - val_loss: 1.7538 - val_accuracy: 0.3570\n",
      "Epoch 29/50\n",
      "45000/45000 [==============================] - 11s 237us/sample - loss: 1.7078 - accuracy: 0.3744 - val_loss: 1.7100 - val_accuracy: 0.3792\n",
      "Epoch 30/50\n",
      "45000/45000 [==============================] - 10s 231us/sample - loss: 2.0098 - accuracy: 0.3204 - val_loss: 1.9480 - val_accuracy: 0.2704\n",
      "Epoch 31/50\n",
      "45000/45000 [==============================] - 11s 253us/sample - loss: 4.1888 - accuracy: 0.2848 - val_loss: 2.4649 - val_accuracy: 0.1446\n",
      "Epoch 32/50\n",
      "45000/45000 [==============================] - 10s 230us/sample - loss: 2.0877 - accuracy: 0.2247 - val_loss: 2.0322 - val_accuracy: 0.2366\n",
      "Epoch 33/50\n",
      "45000/45000 [==============================] - 10s 225us/sample - loss: 1.9488 - accuracy: 0.2608 - val_loss: 1.9464 - val_accuracy: 0.2624\n",
      "Epoch 34/50\n",
      "45000/45000 [==============================] - 10s 228us/sample - loss: 1.9007 - accuracy: 0.2726 - val_loss: 1.8954 - val_accuracy: 0.2792\n"
     ]
    },
    {
     "data": {
      "text/plain": [
       "<tensorflow.python.keras.callbacks.History at 0x7f1604c8f210>"
      ]
     },
     "execution_count": 36,
     "metadata": {},
     "output_type": "execute_result"
    }
   ],
   "source": [
    "tensorboard_cb = tf.keras.callbacks.TensorBoard(get_run_logdir())\n",
    "earlystop_cb = tf.keras.callbacks.EarlyStopping(patience=10, restore_best_weights=True)\n",
    "\n",
    "model.fit(X_train, y_train, validation_data=(X_val, y_val), epochs=50, \n",
    "          callbacks=[tensorboard_cb, earlystop_cb])"
   ]
  },
  {
   "cell_type": "markdown",
   "metadata": {},
   "source": [
    "#### MODEL 2 - BatchNormalization"
   ]
  },
  {
   "cell_type": "code",
   "execution_count": 48,
   "metadata": {},
   "outputs": [],
   "source": [
    "def get_deep_dense_normalized():\n",
    "    input_ = Input(shape=(32, 32, 3), name='input')\n",
    "    x = Flatten()(input_)\n",
    "    for _ in range(20):\n",
    "        x = Dense(100, kernel_initializer='he_normal')(x)\n",
    "        x = BatchNormalization()(x)\n",
    "        x = elu(x)\n",
    "\n",
    "    output_ = Dense(10, activation='softmax', kernel_initializer='he_normal')(x)\n",
    "\n",
    "    return Model(inputs=[input_], outputs=[output_], name='DeepDenseNormalized')"
   ]
  },
  {
   "cell_type": "code",
   "execution_count": 50,
   "metadata": {},
   "outputs": [
    {
     "data": {
      "image/png": "[encoded data removed]",
      "text/plain": [
       "<Figure size 432x288 with 1 Axes>"
      ]
     },
     "metadata": {
      "needs_background": "light"
     },
     "output_type": "display_data"
    }
   ],
   "source": [
    "model = get_deep_dense_normalized()\n",
    "lrf = LearningRateFinder(1e-5, 1.01, Nadam)\n",
    "lrf.test_exp_lr_against_loss(model)"
   ]
  },
  {
   "cell_type": "code",
   "execution_count": 52,
   "metadata": {
    "collapsed": true
   },
   "outputs": [
    {
     "name": "stdout",
     "output_type": "stream",
     "text": [
      "Train on 45000 samples, validate on 5000 samples\n",
      "Epoch 1/50\n",
      "45000/45000 [==============================] - 22s 494us/sample - loss: 1.9574 - accuracy: 0.2774 - val_loss: 3.2014 - val_accuracy: 0.1956\n",
      "Epoch 2/50\n",
      "45000/45000 [==============================] - 16s 361us/sample - loss: 1.7697 - accuracy: 0.3561 - val_loss: 2.8219 - val_accuracy: 0.2178\n",
      "Epoch 3/50\n",
      "45000/45000 [==============================] - 17s 377us/sample - loss: 1.6717 - accuracy: 0.3955 - val_loss: 1.9076 - val_accuracy: 0.3364\n",
      "Epoch 4/50\n",
      "45000/45000 [==============================] - 19s 414us/sample - loss: 1.5945 - accuracy: 0.4263 - val_loss: 1.9320 - val_accuracy: 0.3682\n",
      "Epoch 5/50\n",
      "45000/45000 [==============================] - 17s 375us/sample - loss: 1.5365 - accuracy: 0.4482 - val_loss: 1.8404 - val_accuracy: 0.3810\n",
      "Epoch 6/50\n",
      "45000/45000 [==============================] - 16s 354us/sample - loss: 1.4936 - accuracy: 0.4632 - val_loss: 2.2443 - val_accuracy: 0.3362\n",
      "Epoch 7/50\n",
      "45000/45000 [==============================] - 15s 343us/sample - loss: 1.4532 - accuracy: 0.4794 - val_loss: 3.2317 - val_accuracy: 0.2394\n",
      "Epoch 8/50\n",
      "45000/45000 [==============================] - 15s 344us/sample - loss: 1.4163 - accuracy: 0.4961 - val_loss: 1.7327 - val_accuracy: 0.3814\n",
      "Epoch 9/50\n",
      "45000/45000 [==============================] - 16s 355us/sample - loss: 1.3872 - accuracy: 0.5042 - val_loss: 2.6548 - val_accuracy: 0.3170\n",
      "Epoch 10/50\n",
      "45000/45000 [==============================] - 18s 396us/sample - loss: 1.3597 - accuracy: 0.5166 - val_loss: 1.9815 - val_accuracy: 0.3400\n",
      "Epoch 11/50\n",
      "45000/45000 [==============================] - 16s 355us/sample - loss: 1.3380 - accuracy: 0.5245 - val_loss: 1.7174 - val_accuracy: 0.4046\n",
      "Epoch 12/50\n",
      "45000/45000 [==============================] - 15s 343us/sample - loss: 1.3061 - accuracy: 0.5326 - val_loss: 1.6870 - val_accuracy: 0.4242\n",
      "Epoch 13/50\n",
      "45000/45000 [==============================] - 15s 342us/sample - loss: 1.2837 - accuracy: 0.5446 - val_loss: 2.0481 - val_accuracy: 0.3678\n",
      "Epoch 14/50\n",
      "45000/45000 [==============================] - 15s 344us/sample - loss: 1.2665 - accuracy: 0.5468 - val_loss: 2.2132 - val_accuracy: 0.3746\n",
      "Epoch 15/50\n",
      "45000/45000 [==============================] - 16s 351us/sample - loss: 1.2452 - accuracy: 0.5585 - val_loss: 2.2593 - val_accuracy: 0.3680\n",
      "Epoch 16/50\n",
      "45000/45000 [==============================] - 16s 356us/sample - loss: 1.2264 - accuracy: 0.5638 - val_loss: 2.5506 - val_accuracy: 0.3282\n",
      "Epoch 17/50\n",
      "45000/45000 [==============================] - 16s 361us/sample - loss: 1.2100 - accuracy: 0.5697 - val_loss: 1.7032 - val_accuracy: 0.4038\n",
      "Epoch 18/50\n",
      "45000/45000 [==============================] - 16s 351us/sample - loss: 1.1924 - accuracy: 0.5764 - val_loss: 1.8950 - val_accuracy: 0.4146\n",
      "Epoch 19/50\n",
      "45000/45000 [==============================] - 16s 350us/sample - loss: 1.1702 - accuracy: 0.5820 - val_loss: 2.0907 - val_accuracy: 0.3800\n",
      "Epoch 20/50\n",
      "45000/45000 [==============================] - 16s 351us/sample - loss: 1.1557 - accuracy: 0.5858 - val_loss: 2.8299 - val_accuracy: 0.3564\n",
      "Epoch 21/50\n",
      "45000/45000 [==============================] - 16s 361us/sample - loss: 1.1452 - accuracy: 0.5928 - val_loss: 2.3011 - val_accuracy: 0.3068\n",
      "Epoch 22/50\n",
      "45000/45000 [==============================] - 15s 331us/sample - loss: 1.1336 - accuracy: 0.5962 - val_loss: 2.4415 - val_accuracy: 0.3752\n"
     ]
    },
    {
     "data": {
      "text/plain": [
       "<tensorflow.python.keras.callbacks.History at 0x7f15e7d564d0>"
      ]
     },
     "execution_count": 52,
     "metadata": {},
     "output_type": "execute_result"
    }
   ],
   "source": [
    "model = get_deep_dense_normalized()\n",
    "model.compile(\n",
    "    optimizer=Nadam(lr=1e-2),\n",
    "    loss='sparse_categorical_crossentropy',\n",
    "    metrics=['accuracy']\n",
    ")\n",
    "tensorboard_cb = tf.keras.callbacks.TensorBoard(get_run_logdir())\n",
    "earlystop_cb = tf.keras.callbacks.EarlyStopping(patience=10, restore_best_weights=True)\n",
    "\n",
    "model.fit(X_train, y_train, validation_data=(X_val, y_val), epochs=50, \n",
    "          callbacks=[tensorboard_cb, earlystop_cb])"
   ]
  },
  {
   "cell_type": "markdown",
   "metadata": {},
   "source": [
    "#### MODEL 3 - SELU"
   ]
  },
  {
   "cell_type": "code",
   "execution_count": 53,
   "metadata": {},
   "outputs": [],
   "source": [
    "def get_selfnormalize():\n",
    "    input_ = Input(shape=(32, 32, 3), name='input')\n",
    "    x = Flatten()(input_)\n",
    "    for _ in range(20):\n",
    "        x = Dense(100, activation='selu', kernel_initializer='lecun_normal')(x)\n",
    "\n",
    "    output_ = Dense(10, activation='softmax', kernel_initializer='lecun_normal')(x)\n",
    "\n",
    "    return Model(inputs=[input_], outputs=[output_], name='DeepDenseNormalized')"
   ]
  },
  {
   "cell_type": "code",
   "execution_count": 54,
   "metadata": {},
   "outputs": [
    {
     "data": {
      "image/png": "[encoded data removed]",
      "text/plain": [
       "<Figure size 432x288 with 1 Axes>"
      ]
     },
     "metadata": {
      "needs_background": "light"
     },
     "output_type": "display_data"
    }
   ],
   "source": [
    "model = get_selfnormalize()\n",
    "lrf = LearningRateFinder(1e-5, 1.01, Nadam)\n",
    "lrf.test_exp_lr_against_loss(model)"
   ]
  },
  {
   "cell_type": "code",
   "execution_count": 57,
   "metadata": {},
   "outputs": [
    {
     "name": "stdout",
     "output_type": "stream",
     "text": [
      "Train on 45000 samples, validate on 5000 samples\n",
      "Epoch 1/50\n",
      "45000/45000 [==============================] - 13s 279us/sample - loss: 2.2024 - accuracy: 0.1612 - val_loss: 2.3842 - val_accuracy: 0.1392\n",
      "Epoch 2/50\n",
      "45000/45000 [==============================] - 10s 224us/sample - loss: 2.3876 - accuracy: 0.1662 - val_loss: 2.3509 - val_accuracy: 0.1362\n",
      "Epoch 3/50\n",
      "45000/45000 [==============================] - 10s 223us/sample - loss: 2.1681 - accuracy: 0.1600 - val_loss: 2.3246 - val_accuracy: 0.0982\n",
      "Epoch 4/50\n",
      "45000/45000 [==============================] - 10s 226us/sample - loss: 2.1652 - accuracy: 0.1564 - val_loss: 2.1243 - val_accuracy: 0.1822\n",
      "Epoch 5/50\n",
      "45000/45000 [==============================] - 10s 223us/sample - loss: 2.0915 - accuracy: 0.1798 - val_loss: 2.2719 - val_accuracy: 0.1356\n",
      "Epoch 6/50\n",
      "45000/45000 [==============================] - 10s 223us/sample - loss: 180.6137 - accuracy: 0.1058 - val_loss: 2.3181 - val_accuracy: 0.1048\n",
      "Epoch 7/50\n",
      "45000/45000 [==============================] - 10s 224us/sample - loss: 2.3228 - accuracy: 0.1012 - val_loss: 2.3244 - val_accuracy: 0.1008\n",
      "Epoch 8/50\n",
      "45000/45000 [==============================] - 10s 220us/sample - loss: 2.3264 - accuracy: 0.0990 - val_loss: 2.3211 - val_accuracy: 0.0994\n",
      "Epoch 9/50\n",
      "45000/45000 [==============================] - 10s 222us/sample - loss: 2.3278 - accuracy: 0.1008 - val_loss: 2.3728 - val_accuracy: 0.0998\n",
      "Epoch 10/50\n",
      "45000/45000 [==============================] - 10s 224us/sample - loss: 2.3288 - accuracy: 0.1022 - val_loss: 2.3268 - val_accuracy: 0.0980\n",
      "Epoch 11/50\n",
      "45000/45000 [==============================] - 10s 222us/sample - loss: 2.3303 - accuracy: 0.0981 - val_loss: 2.3155 - val_accuracy: 0.0998\n",
      "Epoch 12/50\n",
      "45000/45000 [==============================] - 10s 220us/sample - loss: 2.3309 - accuracy: 0.0998 - val_loss: 2.3361 - val_accuracy: 0.0952\n",
      "Epoch 13/50\n",
      "45000/45000 [==============================] - 10s 228us/sample - loss: 2.3326 - accuracy: 0.0988 - val_loss: 2.3190 - val_accuracy: 0.0976\n",
      "Epoch 14/50\n",
      "45000/45000 [==============================] - 10s 223us/sample - loss: 2.3308 - accuracy: 0.1006 - val_loss: 2.3323 - val_accuracy: 0.1048\n"
     ]
    },
    {
     "data": {
      "text/plain": [
       "<tensorflow.python.keras.callbacks.History at 0x7f1605a49a90>"
      ]
     },
     "execution_count": 57,
     "metadata": {},
     "output_type": "execute_result"
    }
   ],
   "source": [
    "model = get_selfnormalize()\n",
    "model.compile(\n",
    "    optimizer=Nadam(lr=2e-3),\n",
    "    loss='sparse_categorical_crossentropy',\n",
    "    metrics=['accuracy']\n",
    ")\n",
    "tensorboard_cb = tf.keras.callbacks.TensorBoard(get_run_logdir())\n",
    "earlystop_cb = tf.keras.callbacks.EarlyStopping(patience=10, restore_best_weights=True)\n",
    "\n",
    "model.fit(X_train, y_train, validation_data=(X_val, y_val), epochs=50, \n",
    "          callbacks=[tensorboard_cb, earlystop_cb])"
   ]
  },
  {
   "cell_type": "code",
   "execution_count": 55,
   "metadata": {},
   "outputs": [
    {
     "name": "stdout",
     "output_type": "stream",
     "text": [
      "The tensorboard extension is already loaded. To reload it, use:\n",
      "  %reload_ext tensorboard\n"
     ]
    },
    {
     "data": {
      "text/plain": [
       "Reusing TensorBoard on port 6006 (pid 5393), started 0:17:45 ago. (Use '!kill 5393' to kill it.)"
      ]
     },
     "metadata": {},
     "output_type": "display_data"
    },
    {
     "data": {
      "text/html": [
       "\n",
       "      <iframe id=\"tensorboard-frame-4bd9f826c9165f52\" width=\"100%\" height=\"800\" frameborder=\"0\">\n",
       "      </iframe>\n",
       "      <script>\n",
       "        (function() {\n",
       "          const frame = document.getElementById(\"tensorboard-frame-4bd9f826c9165f52\");\n",
       "          const url = new URL(\"/\", window.location);\n",
       "          url.port = 6006;\n",
       "          frame.src = url;\n",
       "        })();\n",
       "      </script>\n",
       "  "
      ],
      "text/plain": [
       "<IPython.core.display.HTML object>"
      ]
     },
     "metadata": {},
     "output_type": "display_data"
    }
   ],
   "source": [
    "%load_ext tensorboard\n",
    "%tensorboard --logdir=./my_logs/c11 --port=6006"
   ]
  }
 ],
 "metadata": {
  "kernelspec": {
   "display_name": "tf_gpu",
   "language": "python",
   "name": "tf_gpu"
  },
  "language_info": {
   "codemirror_mode": {
    "name": "ipython",
    "version": 3
   },
   "file_extension": ".py",
   "mimetype": "text/x-python",
   "name": "python",
   "nbconvert_exporter": "python",
   "pygments_lexer": "ipython3",
   "version": "3.7.7"
  }
 },
 "nbformat": 4,
 "nbformat_minor": 4
}
