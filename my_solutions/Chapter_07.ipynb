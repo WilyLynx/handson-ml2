{
 "cells": [
  {
   "cell_type": "markdown",
   "metadata": {},
   "source": [
    "# Ensemble methods"
   ]
  },
  {
   "cell_type": "markdown",
   "metadata": {},
   "source": [
    "## Questions"
   ]
  },
  {
   "cell_type": "markdown",
   "metadata": {},
   "source": [
    "### 1\n",
    "Zespół zawsze ma szansę na osiągnięcie lepszych wyników niż pojedynczy model"
   ]
  },
  {
   "cell_type": "markdown",
   "metadata": {},
   "source": [
    "### 2\n",
    "klasyfikacja większościowa polega na zliczeniu klasyfikacji poszczególnych modeli, a następnie wybraniu klasy z największą liczbą głosów\n",
    "\n",
    "miękkie głosowania może być przeprowadzone jedynie w przypadku modeli które zwracają prawdopodobieństwo przynależności próbki do danej klasy (przeważnie metoda predict_proba w sklearn). Metoda polega na zsumowaniu prawdopodobieństw ze wszystkich modeli oraz wybrania klasy z najwyższym wynikiem."
   ]
  },
  {
   "cell_type": "markdown",
   "metadata": {},
   "source": [
    "### 3\n",
    "Agregacja (bagging) polega na wytrenowaniu zespołu modeli gdzie każdy model jest trenowany na losowym podzbiorze danych treningowych. W tym przypadku przeprowadzamy losowanie ze zwracaniem. Proces trenowania każdego modelu jest niezależny, więc może zostać rozdzielony pomiędzy wiele procesów.\n",
    "\n",
    "Wklejanie (pasting) - tak samo tylko losowanie bez zwracania. Losowanie musi być przeprowadzone na jednej maszynie.\n",
    "\n",
    "Wzmacnianie (boosting) - nie, modele ćwiczymy sekwencyjnie. Kolejny model poprawia błędy poprzedniego.\n",
    "\n",
    "Lasy losowe (random forrest) - tak, poszczególne drzewa mogą być trenowane niezależnie\n",
    "\n",
    "Kontaminacja (stacking) - niezależnie w obrębie jednej warstwy. Warstwy sekwencyjnie"
   ]
  },
  {
   "cell_type": "markdown",
   "metadata": {},
   "source": [
    "### 4\n",
    "Nie musimy tworzyć dodatkowego zbioru walidacyjnego."
   ]
  },
  {
   "cell_type": "markdown",
   "metadata": {},
   "source": [
    "### 5\n",
    "Extra trees są bardziej losowe ponieważ warunek logiczny rozdzielający próbki w węzłach jest wybierany losowo, a nie wyliczany na podstawie wzoru. Jako, że algorytm budujący drzewo decyzyjne jest zachłanny, Extra-Trees mogą uzyskać inny wynik, normalnie nie osiągalny. Extra-Trees szybciej się uczą. Predykcja przebiega w takim samym czasie."
   ]
  },
  {
   "cell_type": "markdown",
   "metadata": {},
   "source": [
    "### 6\n",
    "Można zwiększyć bazowy model lub zwiększyć liczbę estymatorów"
   ]
  },
  {
   "cell_type": "markdown",
   "metadata": {},
   "source": [
    "### 7\n",
    "Mniejszy współczynnik uczenia --> więcej modeli --> większe dopasowanie\n",
    "\n",
    "W przypadku przetrenowania należy zwiększyć współczynnik uczenia"
   ]
  },
  {
   "cell_type": "markdown",
   "metadata": {},
   "source": [
    "### 8\n",
    "MNIST"
   ]
  },
  {
   "cell_type": "code",
   "execution_count": null,
   "metadata": {},
   "outputs": [],
   "source": []
  }
 ],
 "metadata": {
  "kernelspec": {
   "display_name": "Python 3",
   "language": "python",
   "name": "python3"
  },
  "language_info": {
   "codemirror_mode": {
    "name": "ipython",
    "version": 3
   },
   "file_extension": ".py",
   "mimetype": "text/x-python",
   "name": "python",
   "nbconvert_exporter": "python",
   "pygments_lexer": "ipython3",
   "version": "3.7.7"
  }
 },
 "nbformat": 4,
 "nbformat_minor": 4
}
