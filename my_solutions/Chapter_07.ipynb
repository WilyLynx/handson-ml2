{
 "cells": [
  {
   "cell_type": "markdown",
   "metadata": {},
   "source": [
    "# Ensemble methods"
   ]
  },
  {
   "cell_type": "markdown",
   "metadata": {},
   "source": [
    "## Questions"
   ]
  },
  {
   "cell_type": "markdown",
   "metadata": {},
   "source": [
    "### 1\n",
    "Zespół zawsze ma szansę na osiągnięcie lepszych wyników niż pojedynczy model"
   ]
  },
  {
   "cell_type": "markdown",
   "metadata": {},
   "source": [
    "### 2\n",
    "klasyfikacja większościowa polega na zliczeniu klasyfikacji poszczególnych modeli, a następnie wybraniu klasy z największą liczbą głosów\n",
    "\n",
    "miękkie głosowania może być przeprowadzone jedynie w przypadku modeli które zwracają prawdopodobieństwo przynależności próbki do danej klasy (przeważnie metoda predict_proba w sklearn). Metoda polega na zsumowaniu prawdopodobieństw ze wszystkich modeli oraz wybrania klasy z najwyższym wynikiem."
   ]
  },
  {
   "cell_type": "markdown",
   "metadata": {},
   "source": [
    "### 3\n",
    "Agregacja (bagging) polega na wytrenowaniu zespołu modeli gdzie każdy model jest trenowany na losowym podzbiorze danych treningowych. W tym przypadku przeprowadzamy losowanie ze zwracaniem. Proces trenowania każdego modelu jest niezależny, więc może zostać rozdzielony pomiędzy wiele procesów.\n",
    "\n",
    "Wklejanie (pasting) - tak samo tylko losowanie bez zwracania. Losowanie musi być przeprowadzone na jednej maszynie.\n",
    "\n",
    "Wzmacnianie (boosting) - nie, modele ćwiczymy sekwencyjnie. Kolejny model poprawia błędy poprzedniego.\n",
    "\n",
    "Lasy losowe (random forrest) - tak, poszczególne drzewa mogą być trenowane niezależnie\n",
    "\n",
    "Kontaminacja (stacking) - niezależnie w obrębie jednej warstwy. Warstwy sekwencyjnie"
   ]
  },
  {
   "cell_type": "markdown",
   "metadata": {},
   "source": [
    "### 4\n",
    "Nie musimy tworzyć dodatkowego zbioru walidacyjnego."
   ]
  },
  {
   "cell_type": "markdown",
   "metadata": {},
   "source": [
    "### 5\n",
    "Extra trees są bardziej losowe ponieważ warunek logiczny rozdzielający próbki w węzłach jest wybierany losowo, a nie wyliczany na podstawie wzoru. Jako, że algorytm budujący drzewo decyzyjne jest zachłanny, Extra-Trees mogą uzyskać inny wynik, normalnie nie osiągalny. Extra-Trees szybciej się uczą. Predykcja przebiega w takim samym czasie."
   ]
  },
  {
   "cell_type": "markdown",
   "metadata": {},
   "source": [
    "### 6\n",
    "Można zwiększyć bazowy model lub zwiększyć liczbę estymatorów"
   ]
  },
  {
   "cell_type": "markdown",
   "metadata": {},
   "source": [
    "### 7\n",
    "Mniejszy współczynnik uczenia --> więcej modeli --> większe dopasowanie\n",
    "\n",
    "W przypadku przetrenowania należy zwiększyć współczynnik uczenia"
   ]
  },
  {
   "cell_type": "markdown",
   "metadata": {},
   "source": [
    "### 8\n",
    "MNIST"
   ]
  },
  {
   "cell_type": "code",
   "execution_count": 1,
   "metadata": {},
   "outputs": [
    {
     "data": {
      "text/plain": [
       "dict_keys(['data', 'target', 'frame', 'categories', 'feature_names', 'target_names', 'DESCR', 'details', 'url'])"
      ]
     },
     "execution_count": 1,
     "metadata": {},
     "output_type": "execute_result"
    }
   ],
   "source": [
    "from sklearn.datasets import fetch_openml\n",
    "\n",
    "mnist = fetch_openml('mnist_784', version=1)\n",
    "mnist.keys()"
   ]
  },
  {
   "cell_type": "code",
   "execution_count": 2,
   "metadata": {},
   "outputs": [
    {
     "name": "stdout",
     "output_type": "stream",
     "text": [
      "50000   50000\n",
      "10000   10000\n",
      "10000   10000\n"
     ]
    }
   ],
   "source": [
    "from sklearn.model_selection import train_test_split\n",
    "\n",
    "X_train, X_test, y_train, y_test = train_test_split(mnist['data'], mnist['target'], test_size=10_000)\n",
    "X_train, X_val, y_train, y_val = train_test_split(X_train, y_train, test_size=10_000)\n",
    "print(f'{len(X_train)}   {len(y_train)}')\n",
    "print(f'{len(X_test)}   {len(y_test)}')\n",
    "print(f'{len(X_val)}   {len(y_val)}')"
   ]
  },
  {
   "cell_type": "code",
   "execution_count": 3,
   "metadata": {},
   "outputs": [],
   "source": [
    "from sklearn.ensemble import RandomForestClassifier, ExtraTreesClassifier\n",
    "from sklearn.svm import SVC\n",
    "\n",
    "rf_clf = RandomForestClassifier()\n",
    "xt_clf = ExtraTreesClassifier()\n",
    "svm_clf = SVC()\n",
    "est = [rf_clf, xt_clf, svm_clf]\n",
    "\n",
    "for clf in est:\n",
    "    clf.fit(X_train, y_train)"
   ]
  },
  {
   "cell_type": "code",
   "execution_count": 7,
   "metadata": {},
   "outputs": [],
   "source": [
    "def evaluate_model(model, X_val, y_val):\n",
    "    y_pred_val = model.predict(X_val)\n",
    "    print(model.__class__.__name__, accuracy_score(y_val, y_pred_val))"
   ]
  },
  {
   "cell_type": "code",
   "execution_count": 9,
   "metadata": {},
   "outputs": [
    {
     "name": "stdout",
     "output_type": "stream",
     "text": [
      "RandomForestClassifier 0.9659\n",
      "ExtraTreesClassifier 0.9695\n",
      "SVC 0.9773\n"
     ]
    }
   ],
   "source": [
    "from sklearn.metrics import accuracy_score\n",
    "for clf in est:\n",
    "    evaluate_model(clf, X_val, y_val)"
   ]
  },
  {
   "cell_type": "code",
   "execution_count": 10,
   "metadata": {},
   "outputs": [
    {
     "name": "stdout",
     "output_type": "stream",
     "text": [
      "VotingClassifier 0.9715\n"
     ]
    }
   ],
   "source": [
    "from sklearn.ensemble import VotingClassifier\n",
    "\n",
    "bg_clf = VotingClassifier(\n",
    "    estimators=[\n",
    "        ('rf', RandomForestClassifier()),\n",
    "        ('xt', ExtraTreesClassifier()),\n",
    "        ('svm', SVC())\n",
    "    ],\n",
    "    voting = 'hard'\n",
    ")\n",
    "\n",
    "bg_clf.fit(X_train, y_train)\n",
    "evaluate_model(bg_clf, X_val, y_val)"
   ]
  },
  {
   "cell_type": "code",
   "execution_count": 11,
   "metadata": {},
   "outputs": [
    {
     "name": "stdout",
     "output_type": "stream",
     "text": [
      "VotingClassifier 0.977\n"
     ]
    }
   ],
   "source": [
    "from sklearn.ensemble import VotingClassifier\n",
    "\n",
    "bg_soft_clf = VotingClassifier(\n",
    "    estimators=[\n",
    "        ('rf', RandomForestClassifier()),\n",
    "        ('xt', ExtraTreesClassifier()),\n",
    "        ('svm', SVC(probability=True))\n",
    "    ],\n",
    "    voting = 'soft'\n",
    ")\n",
    "\n",
    "bg_soft_clf.fit(X_train, y_train)\n",
    "evaluate_model(bg_soft_clf, X_val, y_val)"
   ]
  },
  {
   "cell_type": "code",
   "execution_count": 13,
   "metadata": {},
   "outputs": [],
   "source": [
    "y_pred_rf = rf_clf.predict(X_val)\n",
    "y_pred_xt = xt_clf.predict(X_val)\n",
    "y_pred_svm = svm_clf.predict(X_val)"
   ]
  },
  {
   "cell_type": "code",
   "execution_count": 17,
   "metadata": {},
   "outputs": [
    {
     "data": {
      "text/plain": [
       "(10000, 3)"
      ]
     },
     "execution_count": 17,
     "metadata": {},
     "output_type": "execute_result"
    }
   ],
   "source": [
    "import numpy as np\n",
    "X_mixer = np.vstack((y_pred_rf, y_pred_xt, y_pred_svm)).T\n",
    "X_mixer.shape"
   ]
  },
  {
   "cell_type": "code",
   "execution_count": 23,
   "metadata": {},
   "outputs": [
    {
     "data": {
      "text/plain": [
       "RandomForestClassifier()"
      ]
     },
     "execution_count": 23,
     "metadata": {},
     "output_type": "execute_result"
    }
   ],
   "source": [
    "from sklearn.ensemble import RandomForestClassifier\n",
    "\n",
    "rf_mix_clf = RandomForestClassifier()\n",
    "rf_mix_clf.fit(X_mixer, y_val)"
   ]
  },
  {
   "cell_type": "code",
   "execution_count": 25,
   "metadata": {},
   "outputs": [],
   "source": [
    "y_pred_rf_test = rf_clf.predict(X_test)\n",
    "y_pred_xt_test = xt_clf.predict(X_test)\n",
    "y_pred_svm_test = svm_clf.predict(X_test)\n",
    "X_mixer_test = np.vstack((y_pred_rf_test, y_pred_xt_test, y_pred_svm_test)).T"
   ]
  },
  {
   "cell_type": "code",
   "execution_count": 24,
   "metadata": {},
   "outputs": [
    {
     "data": {
      "text/plain": [
       "0.9736"
      ]
     },
     "execution_count": 24,
     "metadata": {},
     "output_type": "execute_result"
    }
   ],
   "source": [
    "y_test_pred = rf_mix_clf.predict(X_mixer_test)\n",
    "accuracy_score(y_test, y_test_pred)"
   ]
  }
 ],
 "metadata": {
  "kernelspec": {
   "display_name": "Python 3",
   "language": "python",
   "name": "python3"
  },
  "language_info": {
   "codemirror_mode": {
    "name": "ipython",
    "version": 3
   },
   "file_extension": ".py",
   "mimetype": "text/x-python",
   "name": "python",
   "nbconvert_exporter": "python",
   "pygments_lexer": "ipython3",
   "version": "3.7.7"
  }
 },
 "nbformat": 4,
 "nbformat_minor": 4
}
